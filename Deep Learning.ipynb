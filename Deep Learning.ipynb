{
 "cells": [
  {
   "cell_type": "code",
   "execution_count": 18,
   "id": "69076b25",
   "metadata": {},
   "outputs": [
    {
     "ename": "SyntaxError",
     "evalue": "invalid syntax (<ipython-input-18-bddffe03f962>, line 3)",
     "output_type": "error",
     "traceback": [
      "\u001b[1;36m  File \u001b[1;32m\"<ipython-input-18-bddffe03f962>\"\u001b[1;36m, line \u001b[1;32m3\u001b[0m\n\u001b[1;33m    pip3 install tensorflow\u001b[0m\n\u001b[1;37m         ^\u001b[0m\n\u001b[1;31mSyntaxError\u001b[0m\u001b[1;31m:\u001b[0m invalid syntax\n"
     ]
    }
   ],
   "source": [
    "#pip install tensorflow\n",
    "#pip install opencv-python\n",
    "#pip3 install tensorflow == 2.0.0\n",
    "#pip install tfmongodb"
   ]
  },
  {
   "cell_type": "code",
   "execution_count": 13,
   "id": "a3a06503",
   "metadata": {},
   "outputs": [
    {
     "ename": "ModuleNotFoundError",
     "evalue": "No module named 'tensorflow'",
     "output_type": "error",
     "traceback": [
      "\u001b[1;31m---------------------------------------------------------------------------\u001b[0m",
      "\u001b[1;31mModuleNotFoundError\u001b[0m                       Traceback (most recent call last)",
      "\u001b[1;32m<ipython-input-13-5ff80ad6d919>\u001b[0m in \u001b[0;36m<module>\u001b[1;34m\u001b[0m\n\u001b[1;32m----> 1\u001b[1;33m \u001b[1;32mimport\u001b[0m \u001b[0mtensorflow\u001b[0m \u001b[1;32mas\u001b[0m \u001b[0mtf\u001b[0m\u001b[1;33m\u001b[0m\u001b[1;33m\u001b[0m\u001b[0m\n\u001b[0m\u001b[0;32m      2\u001b[0m \u001b[1;33m\u001b[0m\u001b[0m\n\u001b[0;32m      3\u001b[0m \u001b[1;31m#Start interactive session\u001b[0m\u001b[1;33m\u001b[0m\u001b[1;33m\u001b[0m\u001b[1;33m\u001b[0m\u001b[0m\n\u001b[0;32m      4\u001b[0m \u001b[0msess\u001b[0m \u001b[1;33m=\u001b[0m \u001b[0mtf\u001b[0m\u001b[1;33m.\u001b[0m\u001b[0mInteractiveSession\u001b[0m\u001b[1;33m(\u001b[0m\u001b[1;33m)\u001b[0m\u001b[1;33m\u001b[0m\u001b[1;33m\u001b[0m\u001b[0m\n",
      "\u001b[1;31mModuleNotFoundError\u001b[0m: No module named 'tensorflow'"
     ]
    }
   ],
   "source": [
    "import tensorflow as tf\n",
    "# Session Start\n",
    "InterSess = tf.InteractiveSession()"
   ]
  },
  {
   "cell_type": "code",
   "execution_count": null,
   "id": "fa34b9e2",
   "metadata": {},
   "outputs": [],
   "source": [
    "# Load Data from Database\n",
    "# pip install tensorflow-datasets\n",
    "import tensorflow_datasets as tfds\n",
    "ds_data = tfds.load(\"...\")\n",
    "ds_train, ds_test = ds_data[\"train\"], ds_data[\"test\"]\n",
    "assert isinstance(ds_train, tf.data.Dataset)"
   ]
  },
  {
   "cell_type": "code",
   "execution_count": null,
   "id": "81dd9942",
   "metadata": {},
   "outputs": [],
   "source": [
    "# Create general parameters\n",
    "height = 32   # height of inter image \n",
    "width = 32   # width of inter image  \n",
    "Area = height * width  # Total pixels of inter image \n",
    "num_Class = 15   # number of class"
   ]
  },
  {
   "cell_type": "code",
   "execution_count": null,
   "id": "6f01d34a",
   "metadata": {},
   "outputs": [],
   "source": [
    "# Create Place holder\n",
    "x_pixel  = tf.placeholder(tf.float32, shape=[None, Area])\n",
    "y_pixel = tf.placeholder(tf.float32, shape=[None, num_Class])"
   ]
  },
  {
   "cell_type": "code",
   "execution_count": null,
   "id": "e37adce3",
   "metadata": {},
   "outputs": [],
   "source": [
    "# Initial bias\n",
    "def bias_variable(shape):\n",
    "    init_bias = tf.constant(0.1, shape=shape)\n",
    "    return tf.Variable(init_bias)"
   ]
  },
  {
   "cell_type": "code",
   "execution_count": 1,
   "id": "2240351a",
   "metadata": {},
   "outputs": [],
   "source": [
    "# Initial weights\n",
    "def weight_variable(shape):\n",
    "    init_weight = tf.truncated_normal(shape, stddev=0.1)\n",
    "    return tf.Variable(init_weight)"
   ]
  },
  {
   "cell_type": "code",
   "execution_count": null,
   "id": "c9eb314a",
   "metadata": {},
   "outputs": [],
   "source": [
    "# Convolution layer\n",
    "def conv2d(x_pixel, W):\n",
    "    return tf.nn.conv2d(x_pixel, W, strides=[2, 2, 2, 2], padding= (tf.constant(-1, dtype=tf.int64))"
   ]
  },
  {
   "cell_type": "code",
   "execution_count": null,
   "id": "e5d4b68c",
   "metadata": {},
   "outputs": [],
   "source": [
    "# Kernel 2*2\n",
    "def max_pool_2x2(x_pixel):\n",
    "    return tf.nn.max_pool(x_pixel, ksize=[1, 2, 2, 1],\n",
    "                        strides=[2, 1, 1, 2], padding= (tf.constant(-1, dtype=tf.int64))"
   ]
  },
  {
   "cell_type": "code",
   "execution_count": null,
   "id": "3ac09b04",
   "metadata": {},
   "outputs": [],
   "source": [
    "# Weights/Bias/Kernel\n",
    "conv_weight_1 = weight_variable([8, 8, 1, 64])\n",
    "conv_bias_1 = bias_variable([64]) "
   ]
  },
  {
   "cell_type": "code",
   "execution_count": null,
   "id": "4fb47cd9",
   "metadata": {},
   "outputs": [],
   "source": [
    "# Tensor\n",
    "x_image = tf.reshape(x_pixel, [1,32,32,-1]) "
   ]
  },
  {
   "cell_type": "code",
   "execution_count": null,
   "id": "1a01f789",
   "metadata": {},
   "outputs": [],
   "source": [
    "# Convolve\n",
    "conv_1= conv2d(x_image, conv_weight_1) + conv_bias_1"
   ]
  },
  {
   "cell_type": "code",
   "execution_count": null,
   "id": "557b1ac7",
   "metadata": {},
   "outputs": [],
   "source": [
    "# RelU Fun\n",
    "conv_height_1 = tf.nn.relu(conv_1)"
   ]
  },
  {
   "cell_type": "code",
   "execution_count": null,
   "id": "0b875edd",
   "metadata": {},
   "outputs": [],
   "source": [
    "pool_epoch_1 = max_pool_2x2(conv_height_1)"
   ]
  },
  {
   "cell_type": "code",
   "execution_count": null,
   "id": "ab10a875",
   "metadata": {},
   "outputs": [],
   "source": [
    "# Second Layer\n",
    "conv_weight_2 = weight_variable([8, 8, 32, 64])\n",
    "conv_bias_2 = bias_variable([64]) "
   ]
  },
  {
   "cell_type": "code",
   "execution_count": null,
   "id": "7f6fe737",
   "metadata": {},
   "outputs": [],
   "source": [
    "conv_2= conv2d(pool_epoch_1, conv_weight_2) + conv_bias_2"
   ]
  },
  {
   "cell_type": "code",
   "execution_count": null,
   "id": "43186538",
   "metadata": {},
   "outputs": [],
   "source": [
    "conv_height_2 = tf.nn.relu(conv_2)"
   ]
  },
  {
   "cell_type": "code",
   "execution_count": null,
   "id": "d81af510",
   "metadata": {},
   "outputs": [],
   "source": [
    "layer_2 = max_pool_2x2(conv_height_2)"
   ]
  },
  {
   "cell_type": "code",
   "execution_count": null,
   "id": "90aa3b70",
   "metadata": {},
   "outputs": [],
   "source": [
    "# Third layer\n",
    "weight_fun_1 = weight_variable([7 * 7 * 64, 2048])\n",
    "bias_fun_1 = bias_variable([2048])"
   ]
  },
  {
   "cell_type": "code",
   "execution_count": null,
   "id": "dcf16524",
   "metadata": {},
   "outputs": [],
   "source": [
    "layer2_tensor = tf.reshape(layer2, [-1, 8*8*64])"
   ]
  },
  {
   "cell_type": "code",
   "execution_count": null,
   "id": "0fe62213",
   "metadata": {},
   "outputs": [],
   "source": [
    "mat_fun_1 = tf.matmul(layer2_tensor, weight_fun_1) + b_fc1"
   ]
  },
  {
   "cell_type": "code",
   "execution_count": null,
   "id": "87deb015",
   "metadata": {},
   "outputs": [],
   "source": [
    "layer_3 = tf.nn.relu(mat_fun_1)"
   ]
  },
  {
   "cell_type": "code",
   "execution_count": null,
   "id": "9832ad04",
   "metadata": {},
   "outputs": [],
   "source": [
    "# Decrease over-fitting\n",
    "layer_plh_3 = tf.placeholder(tf.float32)\n",
    "layer_drp_3 = tf.nn.dropout(layer_3, layer_plh_3)"
   ]
  },
  {
   "cell_type": "code",
   "execution_count": null,
   "id": "e702b8b7",
   "metadata": {},
   "outputs": [],
   "source": [
    "Weight_fun_2 = weight_variable([1024, 16])\n",
    "bias_fun_2 = bias_variable([16]) "
   ]
  },
  {
   "cell_type": "code",
   "execution_count": null,
   "id": "0c2f3a48",
   "metadata": {},
   "outputs": [],
   "source": [
    "mat_fun_2 = tf.matmul(layer_drp_3, Weight_fun_2) + bias_fun_2"
   ]
  },
  {
   "cell_type": "code",
   "execution_count": null,
   "id": "224f524a",
   "metadata": {},
   "outputs": [],
   "source": [
    "layer_4 = tf.nn.softmax(mat_fun_2)"
   ]
  },
  {
   "cell_type": "code",
   "execution_count": null,
   "id": "da510e06",
   "metadata": {},
   "outputs": [],
   "source": [
    "# Loss function\n",
    "reduction = -tf.reduce_sum(y_pixel * tf.log(layer_4), reduction_indices=[1])\n",
    "loss_fun = tf.reduce_mean(reduction)"
   ]
  },
  {
   "cell_type": "code",
   "execution_count": null,
   "id": "a6e440b4",
   "metadata": {},
   "outputs": [],
   "source": [
    "# Optimal function\n",
    "train_step = tf.train.AdamOptimizer(1e-4).minimize(loss_fun)"
   ]
  },
  {
   "cell_type": "code",
   "execution_count": null,
   "id": "dcce5130",
   "metadata": {},
   "outputs": [],
   "source": [
    "# Prediction\n",
    "prediction = tf.equal(tf.argmax(layer_4,1), tf.argmax(y_pixel,1))"
   ]
  },
  {
   "cell_type": "code",
   "execution_count": null,
   "id": "414845f8",
   "metadata": {},
   "outputs": [],
   "source": [
    "# Accurecy\n",
    "accuracy = tf.reduce_mean(tf.cast(prediction, tf.float32))"
   ]
  },
  {
   "cell_type": "code",
   "execution_count": null,
   "id": "3a322060",
   "metadata": {},
   "outputs": [],
   "source": [
    "# Initialize variables\n",
    "InterSess.run(tf.global_variables_initializer())"
   ]
  },
  {
   "cell_type": "code",
   "execution_count": null,
   "id": "6e7c925a",
   "metadata": {},
   "outputs": [],
   "source": [
    "# Train\n",
    "for b in range(2048):\n",
    "    batch = ds_data.train.next_batch(100)\n",
    "    if b%50 == 0:\n",
    "        train_accur = accuracy.eval(epoch_dr={x_pixelx:batch[0], y_: batch[1], keep_prb: 1.0})\n",
    "        print(\"epoch %d, training: accuracy %g\"%(b, float(train_accur)))\n",
    "    train_step.run(epoch_dr={x: batch[0], y_: batch[1], keep_prb: 0.5})\n"
   ]
  },
  {
   "cell_type": "code",
   "execution_count": 3,
   "id": "6e10d1ac",
   "metadata": {},
   "outputs": [
    {
     "ename": "NameError",
     "evalue": "name 'accuracy' is not defined",
     "output_type": "error",
     "traceback": [
      "\u001b[1;31m---------------------------------------------------------------------------\u001b[0m",
      "\u001b[1;31mNameError\u001b[0m                                 Traceback (most recent call last)",
      "\u001b[1;32m<ipython-input-3-6d0118a34e2b>\u001b[0m in \u001b[0;36m<module>\u001b[1;34m\u001b[0m\n\u001b[0;32m      1\u001b[0m \u001b[1;31m# evaluation\u001b[0m\u001b[1;33m\u001b[0m\u001b[1;33m\u001b[0m\u001b[1;33m\u001b[0m\u001b[0m\n\u001b[1;32m----> 2\u001b[1;33m \u001b[0mprint\u001b[0m\u001b[1;33m(\u001b[0m\u001b[1;34m\"test accuracy %g\"\u001b[0m\u001b[1;33m%\u001b[0m\u001b[0maccuracy\u001b[0m\u001b[1;33m.\u001b[0m\u001b[0meval\u001b[0m\u001b[1;33m(\u001b[0m\u001b[0mfeed_dict\u001b[0m\u001b[1;33m=\u001b[0m\u001b[1;33m{\u001b[0m\u001b[0mx\u001b[0m\u001b[1;33m:\u001b[0m \u001b[0mmnist\u001b[0m\u001b[1;33m.\u001b[0m\u001b[0mtest\u001b[0m\u001b[1;33m.\u001b[0m\u001b[0mimages\u001b[0m\u001b[1;33m,\u001b[0m \u001b[0my_\u001b[0m\u001b[1;33m:\u001b[0m \u001b[0mmnist\u001b[0m\u001b[1;33m.\u001b[0m\u001b[0mtest\u001b[0m\u001b[1;33m.\u001b[0m\u001b[0mlabels\u001b[0m\u001b[1;33m,\u001b[0m \u001b[0mkeep_prob\u001b[0m\u001b[1;33m:\u001b[0m \u001b[1;36m1.0\u001b[0m\u001b[1;33m}\u001b[0m\u001b[1;33m)\u001b[0m\u001b[1;33m)\u001b[0m\u001b[1;33m\u001b[0m\u001b[1;33m\u001b[0m\u001b[0m\n\u001b[0m",
      "\u001b[1;31mNameError\u001b[0m: name 'accuracy' is not defined"
     ]
    }
   ],
   "source": [
    "# evaluation\n",
    "print(\"evaluation: accuracy %g\"%accuracy.eval(epoch_dr={x_pixel: ds_data.test.images, y_pixel: ds_data.test.labels, keep_prb: 1.0}))"
   ]
  },
  {
   "cell_type": "code",
   "execution_count": null,
   "id": "0bb21613",
   "metadata": {},
   "outputs": [],
   "source": [
    "InterSess.close() #finish the session"
   ]
  }
 ],
 "metadata": {
  "kernelspec": {
   "display_name": "Python 3",
   "language": "python",
   "name": "python3"
  },
  "language_info": {
   "codemirror_mode": {
    "name": "ipython",
    "version": 3
   },
   "file_extension": ".py",
   "mimetype": "text/x-python",
   "name": "python",
   "nbconvert_exporter": "python",
   "pygments_lexer": "ipython3",
   "version": "3.8.8"
  }
 },
 "nbformat": 4,
 "nbformat_minor": 5
}
